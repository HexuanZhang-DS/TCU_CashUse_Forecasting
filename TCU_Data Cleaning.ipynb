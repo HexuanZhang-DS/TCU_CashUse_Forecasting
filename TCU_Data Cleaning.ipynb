{
 "cells": [
  {
   "cell_type": "code",
   "execution_count": 1,
   "metadata": {},
   "outputs": [],
   "source": [
    "import numpy as np # linear algebra\n",
    "import pandas as pd # data processing, CSV file I/O (e.g. pd.read_csv)\n",
    "from datetime import datetime, date, time\n",
    "from datetime import timedelta\n",
    "import matplotlib as mpl\n",
    "import matplotlib.pyplot as plt\n",
    "import holidays \n",
    "\n",
    "# set float display default\n",
    "pd.set_option('display.float_format', lambda x: '%.2f' % x)\n"
   ]
  },
  {
   "cell_type": "markdown",
   "metadata": {},
   "source": [
    "# Read the Data"
   ]
  },
  {
   "cell_type": "code",
   "execution_count": 2,
   "metadata": {},
   "outputs": [],
   "source": [
    "DataDictionary = pd.read_excel('DataDictionary.xlsx')\n",
    "TCU_HolidayList = pd.read_csv('TCU_HolidayList.csv')\n",
    "training = pd.read_csv('Training.csv')\n",
    "supplemental = pd.read_csv('Training_SupplementalFields.csv')"
   ]
  },
  {
   "cell_type": "markdown",
   "metadata": {},
   "source": [
    "## Change time variable"
   ]
  },
  {
   "cell_type": "code",
   "execution_count": 3,
   "metadata": {},
   "outputs": [],
   "source": [
    "training['BusinessDate'] = pd.to_datetime(training['BusinessDate'])\n",
    "supplemental['BusinessDate'] = pd.to_datetime(supplemental['BusinessDate'])\n",
    "TCU_HolidayList['HolidayDate'] = pd.to_datetime(TCU_HolidayList['HolidayDate'])"
   ]
  },
  {
   "cell_type": "code",
   "execution_count": 4,
   "metadata": {},
   "outputs": [
    {
     "data": {
      "text/html": [
       "<div>\n",
       "<style scoped>\n",
       "    .dataframe tbody tr th:only-of-type {\n",
       "        vertical-align: middle;\n",
       "    }\n",
       "\n",
       "    .dataframe tbody tr th {\n",
       "        vertical-align: top;\n",
       "    }\n",
       "\n",
       "    .dataframe thead th {\n",
       "        text-align: right;\n",
       "    }\n",
       "</style>\n",
       "<table border=\"1\" class=\"dataframe\">\n",
       "  <thead>\n",
       "    <tr style=\"text-align: right;\">\n",
       "      <th></th>\n",
       "      <th>BusinessDate</th>\n",
       "      <th>BranchID</th>\n",
       "      <th>CashOrdersReceived</th>\n",
       "      <th>CashBalance_StartOfDay</th>\n",
       "      <th>TotalCashUsed</th>\n",
       "    </tr>\n",
       "  </thead>\n",
       "  <tbody>\n",
       "    <tr>\n",
       "      <th>0</th>\n",
       "      <td>2020-07-31</td>\n",
       "      <td>99</td>\n",
       "      <td>-</td>\n",
       "      <td>775,054.00</td>\n",
       "      <td>-43,718.13</td>\n",
       "    </tr>\n",
       "    <tr>\n",
       "      <th>1</th>\n",
       "      <td>2020-07-30</td>\n",
       "      <td>99</td>\n",
       "      <td>-</td>\n",
       "      <td>1,036,464.13</td>\n",
       "      <td>261,410.14</td>\n",
       "    </tr>\n",
       "    <tr>\n",
       "      <th>2</th>\n",
       "      <td>2020-07-29</td>\n",
       "      <td>99</td>\n",
       "      <td>400,540.11</td>\n",
       "      <td>1,141,386.84</td>\n",
       "      <td>104,922.70</td>\n",
       "    </tr>\n",
       "    <tr>\n",
       "      <th>3</th>\n",
       "      <td>2020-07-28</td>\n",
       "      <td>99</td>\n",
       "      <td>-</td>\n",
       "      <td>864,871.20</td>\n",
       "      <td>124,024.48</td>\n",
       "    </tr>\n",
       "    <tr>\n",
       "      <th>4</th>\n",
       "      <td>2020-07-27</td>\n",
       "      <td>99</td>\n",
       "      <td>-</td>\n",
       "      <td>923,948.57</td>\n",
       "      <td>59,077.37</td>\n",
       "    </tr>\n",
       "  </tbody>\n",
       "</table>\n",
       "</div>"
      ],
      "text/plain": [
       "  BusinessDate  BranchID  CashOrdersReceived   CashBalance_StartOfDay   \\\n",
       "0   2020-07-31        99                 -                  775,054.00   \n",
       "1   2020-07-30        99                 -                1,036,464.13   \n",
       "2   2020-07-29        99           400,540.11             1,141,386.84   \n",
       "3   2020-07-28        99                 -                  864,871.20   \n",
       "4   2020-07-27        99                 -                  923,948.57   \n",
       "\n",
       "   TotalCashUsed   \n",
       "0      -43,718.13  \n",
       "1      261,410.14  \n",
       "2      104,922.70  \n",
       "3      124,024.48  \n",
       "4       59,077.37  "
      ]
     },
     "execution_count": 4,
     "metadata": {},
     "output_type": "execute_result"
    }
   ],
   "source": [
    "training.head()"
   ]
  },
  {
   "cell_type": "code",
   "execution_count": 5,
   "metadata": {},
   "outputs": [
    {
     "data": {
      "text/plain": [
       "(171230, 5)"
      ]
     },
     "execution_count": 5,
     "metadata": {},
     "output_type": "execute_result"
    }
   ],
   "source": [
    "training.shape"
   ]
  },
  {
   "cell_type": "code",
   "execution_count": 6,
   "metadata": {},
   "outputs": [
    {
     "data": {
      "text/html": [
       "<div>\n",
       "<style scoped>\n",
       "    .dataframe tbody tr th:only-of-type {\n",
       "        vertical-align: middle;\n",
       "    }\n",
       "\n",
       "    .dataframe tbody tr th {\n",
       "        vertical-align: top;\n",
       "    }\n",
       "\n",
       "    .dataframe thead th {\n",
       "        text-align: right;\n",
       "    }\n",
       "</style>\n",
       "<table border=\"1\" class=\"dataframe\">\n",
       "  <thead>\n",
       "    <tr style=\"text-align: right;\">\n",
       "      <th></th>\n",
       "      <th>BusinessDate</th>\n",
       "      <th>BranchID</th>\n",
       "      <th>CashToVault</th>\n",
       "      <th>CashUnder</th>\n",
       "      <th>CashOver</th>\n",
       "      <th>TotalCashDisbursed</th>\n",
       "      <th>TotalCashOpeningBalance</th>\n",
       "      <th>TotalCashReceivedAllSources</th>\n",
       "    </tr>\n",
       "  </thead>\n",
       "  <tbody>\n",
       "    <tr>\n",
       "      <th>0</th>\n",
       "      <td>2020-07-31</td>\n",
       "      <td>99</td>\n",
       "      <td>-</td>\n",
       "      <td>-</td>\n",
       "      <td>-</td>\n",
       "      <td>1,196,392.62</td>\n",
       "      <td>1,095,684.09</td>\n",
       "      <td>875,762.53</td>\n",
       "    </tr>\n",
       "    <tr>\n",
       "      <th>1</th>\n",
       "      <td>2020-07-30</td>\n",
       "      <td>99</td>\n",
       "      <td>-</td>\n",
       "      <td>-</td>\n",
       "      <td>-</td>\n",
       "      <td>-</td>\n",
       "      <td>1,036,464.13</td>\n",
       "      <td>-</td>\n",
       "    </tr>\n",
       "    <tr>\n",
       "      <th>2</th>\n",
       "      <td>2020-07-29</td>\n",
       "      <td>99</td>\n",
       "      <td>-</td>\n",
       "      <td>-</td>\n",
       "      <td>-</td>\n",
       "      <td>-</td>\n",
       "      <td>1,141,386.84</td>\n",
       "      <td>-</td>\n",
       "    </tr>\n",
       "    <tr>\n",
       "      <th>3</th>\n",
       "      <td>2020-07-28</td>\n",
       "      <td>99</td>\n",
       "      <td>-</td>\n",
       "      <td>-</td>\n",
       "      <td>-</td>\n",
       "      <td>-</td>\n",
       "      <td>864,871.20</td>\n",
       "      <td>-</td>\n",
       "    </tr>\n",
       "    <tr>\n",
       "      <th>4</th>\n",
       "      <td>2020-07-27</td>\n",
       "      <td>99</td>\n",
       "      <td>-</td>\n",
       "      <td>-</td>\n",
       "      <td>-</td>\n",
       "      <td>-</td>\n",
       "      <td>923,948.57</td>\n",
       "      <td>-</td>\n",
       "    </tr>\n",
       "  </tbody>\n",
       "</table>\n",
       "</div>"
      ],
      "text/plain": [
       "  BusinessDate  BranchID  CashToVault   CashUnder   CashOver   \\\n",
       "0   2020-07-31        99          -           -          -      \n",
       "1   2020-07-30        99          -           -          -      \n",
       "2   2020-07-29        99          -           -          -      \n",
       "3   2020-07-28        99          -           -          -      \n",
       "4   2020-07-27        99          -           -          -      \n",
       "\n",
       "   TotalCashDisbursed   TotalCashOpeningBalance   TotalCashReceivedAllSources   \n",
       "0        1,196,392.62              1,095,684.09                    875,762.53   \n",
       "1                 -                1,036,464.13                           -     \n",
       "2                 -                1,141,386.84                           -     \n",
       "3                 -                  864,871.20                           -     \n",
       "4                 -                  923,948.57                           -     "
      ]
     },
     "execution_count": 6,
     "metadata": {},
     "output_type": "execute_result"
    }
   ],
   "source": [
    "supplemental.head()"
   ]
  },
  {
   "cell_type": "code",
   "execution_count": 7,
   "metadata": {},
   "outputs": [
    {
     "data": {
      "text/plain": [
       "(171230, 8)"
      ]
     },
     "execution_count": 7,
     "metadata": {},
     "output_type": "execute_result"
    }
   ],
   "source": [
    "supplemental.shape"
   ]
  },
  {
   "cell_type": "code",
   "execution_count": 8,
   "metadata": {},
   "outputs": [
    {
     "data": {
      "text/html": [
       "<div>\n",
       "<style scoped>\n",
       "    .dataframe tbody tr th:only-of-type {\n",
       "        vertical-align: middle;\n",
       "    }\n",
       "\n",
       "    .dataframe tbody tr th {\n",
       "        vertical-align: top;\n",
       "    }\n",
       "\n",
       "    .dataframe thead th {\n",
       "        text-align: right;\n",
       "    }\n",
       "</style>\n",
       "<table border=\"1\" class=\"dataframe\">\n",
       "  <thead>\n",
       "    <tr style=\"text-align: right;\">\n",
       "      <th></th>\n",
       "      <th>HolidayDate</th>\n",
       "      <th>HolidayName</th>\n",
       "    </tr>\n",
       "  </thead>\n",
       "  <tbody>\n",
       "    <tr>\n",
       "      <th>0</th>\n",
       "      <td>2020-12-25</td>\n",
       "      <td>Christmas Day</td>\n",
       "    </tr>\n",
       "    <tr>\n",
       "      <th>1</th>\n",
       "      <td>2020-12-24</td>\n",
       "      <td>Christmas Eve (TCU only)</td>\n",
       "    </tr>\n",
       "    <tr>\n",
       "      <th>2</th>\n",
       "      <td>2020-11-27</td>\n",
       "      <td>Day after T-Day (Fri - TCU only)</td>\n",
       "    </tr>\n",
       "    <tr>\n",
       "      <th>3</th>\n",
       "      <td>2020-11-26</td>\n",
       "      <td>Thanksgiving</td>\n",
       "    </tr>\n",
       "    <tr>\n",
       "      <th>4</th>\n",
       "      <td>2020-11-11</td>\n",
       "      <td>Veterans Day</td>\n",
       "    </tr>\n",
       "  </tbody>\n",
       "</table>\n",
       "</div>"
      ],
      "text/plain": [
       "  HolidayDate                       HolidayName\n",
       "0  2020-12-25                     Christmas Day\n",
       "1  2020-12-24          Christmas Eve (TCU only)\n",
       "2  2020-11-27  Day after T-Day (Fri - TCU only)\n",
       "3  2020-11-26                      Thanksgiving\n",
       "4  2020-11-11                      Veterans Day"
      ]
     },
     "execution_count": 8,
     "metadata": {},
     "output_type": "execute_result"
    }
   ],
   "source": [
    "TCU_HolidayList.head()"
   ]
  },
  {
   "cell_type": "markdown",
   "metadata": {},
   "source": [
    "## Create a full holiday list"
   ]
  },
  {
   "cell_type": "code",
   "execution_count": 9,
   "metadata": {},
   "outputs": [],
   "source": [
    "year = range(2010,2022)\n",
    "us_holidays = holidays.UnitedStates(years=year)\n",
    "us_holidays= pd.DataFrame(list(us_holidays.items()),columns = ['HolidayDate','Holiday']) \n",
    "us_holidays['HolidayDate']=pd.to_datetime(us_holidays['HolidayDate'])\n",
    "us_holidays.sort_values(['HolidayDate'], inplace=True)"
   ]
  },
  {
   "cell_type": "code",
   "execution_count": 10,
   "metadata": {},
   "outputs": [],
   "source": [
    "full_holidays = pd.merge(TCU_HolidayList, us_holidays, left_on='HolidayDate', right_on='HolidayDate', how='outer')\n",
    "full_holidays['Holiday'].fillna(full_holidays['HolidayName'], inplace= True)\n",
    "full_holidays=full_holidays[['HolidayDate','Holiday']]"
   ]
  },
  {
   "cell_type": "code",
   "execution_count": 11,
   "metadata": {},
   "outputs": [
    {
     "data": {
      "text/html": [
       "<div>\n",
       "<style scoped>\n",
       "    .dataframe tbody tr th:only-of-type {\n",
       "        vertical-align: middle;\n",
       "    }\n",
       "\n",
       "    .dataframe tbody tr th {\n",
       "        vertical-align: top;\n",
       "    }\n",
       "\n",
       "    .dataframe thead th {\n",
       "        text-align: right;\n",
       "    }\n",
       "</style>\n",
       "<table border=\"1\" class=\"dataframe\">\n",
       "  <thead>\n",
       "    <tr style=\"text-align: right;\">\n",
       "      <th></th>\n",
       "      <th>HolidayDate</th>\n",
       "      <th>Holiday</th>\n",
       "    </tr>\n",
       "  </thead>\n",
       "  <tbody>\n",
       "    <tr>\n",
       "      <th>0</th>\n",
       "      <td>2020-12-25</td>\n",
       "      <td>Christmas Day</td>\n",
       "    </tr>\n",
       "    <tr>\n",
       "      <th>1</th>\n",
       "      <td>2020-12-24</td>\n",
       "      <td>Christmas Eve (TCU only)</td>\n",
       "    </tr>\n",
       "    <tr>\n",
       "      <th>2</th>\n",
       "      <td>2020-11-27</td>\n",
       "      <td>Day after T-Day (Fri - TCU only)</td>\n",
       "    </tr>\n",
       "    <tr>\n",
       "      <th>3</th>\n",
       "      <td>2020-11-26</td>\n",
       "      <td>Thanksgiving</td>\n",
       "    </tr>\n",
       "    <tr>\n",
       "      <th>4</th>\n",
       "      <td>2020-11-11</td>\n",
       "      <td>Veterans Day</td>\n",
       "    </tr>\n",
       "  </tbody>\n",
       "</table>\n",
       "</div>"
      ],
      "text/plain": [
       "  HolidayDate                           Holiday\n",
       "0  2020-12-25                     Christmas Day\n",
       "1  2020-12-24          Christmas Eve (TCU only)\n",
       "2  2020-11-27  Day after T-Day (Fri - TCU only)\n",
       "3  2020-11-26                      Thanksgiving\n",
       "4  2020-11-11                      Veterans Day"
      ]
     },
     "execution_count": 11,
     "metadata": {},
     "output_type": "execute_result"
    }
   ],
   "source": [
    "full_holidays.head()"
   ]
  },
  {
   "cell_type": "code",
   "execution_count": 12,
   "metadata": {},
   "outputs": [
    {
     "data": {
      "text/plain": [
       "((150, 2), (123, 2))"
      ]
     },
     "execution_count": 12,
     "metadata": {},
     "output_type": "execute_result"
    }
   ],
   "source": [
    "full_holidays.shape , TCU_HolidayList.shape"
   ]
  },
  {
   "cell_type": "code",
   "execution_count": 13,
   "metadata": {},
   "outputs": [],
   "source": [
    "# rename holidays\n",
    "def holiday_rename(series):\n",
    "    if series == \"Christmas Eve (TCU only)\":\n",
    "        return \"Christmas Eve\"\n",
    "    if series == \"Day after T-Day (Fri - TCU only)\":\n",
    "        return \"Day After T-Day (TCU only)\"\n",
    "    else: \n",
    "        return series\n",
    "full_holidays['Holiday'] = full_holidays['Holiday'].apply(holiday_rename) "
   ]
  },
  {
   "cell_type": "code",
   "execution_count": 14,
   "metadata": {},
   "outputs": [],
   "source": [
    "#save the full_holidays dataset for model use\n",
    "full_holidays.to_csv('full_holidays.csv', index=False)"
   ]
  },
  {
   "cell_type": "markdown",
   "metadata": {},
   "source": [
    "## Add holidays before and after to account for additional closing dates"
   ]
  },
  {
   "cell_type": "code",
   "execution_count": 15,
   "metadata": {},
   "outputs": [],
   "source": [
    "before_holidays = pd.DataFrame()\n",
    "after_holidays = pd.DataFrame()\n",
    "\n",
    "before_holidays['before'] = full_holidays['HolidayDate']-timedelta(days=1)\n",
    "before_holidays['before_holiday'] = full_holidays['Holiday'] + '_Before'\n",
    "after_holidays['after'] = full_holidays['HolidayDate'] + timedelta(days=1)\n",
    "after_holidays['after_holiday'] = full_holidays['Holiday'] + '_After'"
   ]
  },
  {
   "cell_type": "code",
   "execution_count": 16,
   "metadata": {},
   "outputs": [
    {
     "data": {
      "text/html": [
       "<div>\n",
       "<style scoped>\n",
       "    .dataframe tbody tr th:only-of-type {\n",
       "        vertical-align: middle;\n",
       "    }\n",
       "\n",
       "    .dataframe tbody tr th {\n",
       "        vertical-align: top;\n",
       "    }\n",
       "\n",
       "    .dataframe thead th {\n",
       "        text-align: right;\n",
       "    }\n",
       "</style>\n",
       "<table border=\"1\" class=\"dataframe\">\n",
       "  <thead>\n",
       "    <tr style=\"text-align: right;\">\n",
       "      <th></th>\n",
       "      <th>before</th>\n",
       "      <th>before_holiday</th>\n",
       "    </tr>\n",
       "  </thead>\n",
       "  <tbody>\n",
       "    <tr>\n",
       "      <th>0</th>\n",
       "      <td>2020-12-24</td>\n",
       "      <td>Christmas Day_Before</td>\n",
       "    </tr>\n",
       "    <tr>\n",
       "      <th>1</th>\n",
       "      <td>2020-12-23</td>\n",
       "      <td>Christmas Eve_Before</td>\n",
       "    </tr>\n",
       "    <tr>\n",
       "      <th>2</th>\n",
       "      <td>2020-11-26</td>\n",
       "      <td>Day After T-Day (TCU only)_Before</td>\n",
       "    </tr>\n",
       "    <tr>\n",
       "      <th>3</th>\n",
       "      <td>2020-11-25</td>\n",
       "      <td>Thanksgiving_Before</td>\n",
       "    </tr>\n",
       "    <tr>\n",
       "      <th>4</th>\n",
       "      <td>2020-11-10</td>\n",
       "      <td>Veterans Day_Before</td>\n",
       "    </tr>\n",
       "  </tbody>\n",
       "</table>\n",
       "</div>"
      ],
      "text/plain": [
       "      before                     before_holiday\n",
       "0 2020-12-24               Christmas Day_Before\n",
       "1 2020-12-23               Christmas Eve_Before\n",
       "2 2020-11-26  Day After T-Day (TCU only)_Before\n",
       "3 2020-11-25                Thanksgiving_Before\n",
       "4 2020-11-10                Veterans Day_Before"
      ]
     },
     "execution_count": 16,
     "metadata": {},
     "output_type": "execute_result"
    }
   ],
   "source": [
    "before_holidays.head()"
   ]
  },
  {
   "cell_type": "code",
   "execution_count": 17,
   "metadata": {},
   "outputs": [
    {
     "data": {
      "text/html": [
       "<div>\n",
       "<style scoped>\n",
       "    .dataframe tbody tr th:only-of-type {\n",
       "        vertical-align: middle;\n",
       "    }\n",
       "\n",
       "    .dataframe tbody tr th {\n",
       "        vertical-align: top;\n",
       "    }\n",
       "\n",
       "    .dataframe thead th {\n",
       "        text-align: right;\n",
       "    }\n",
       "</style>\n",
       "<table border=\"1\" class=\"dataframe\">\n",
       "  <thead>\n",
       "    <tr style=\"text-align: right;\">\n",
       "      <th></th>\n",
       "      <th>after</th>\n",
       "      <th>after_holiday</th>\n",
       "    </tr>\n",
       "  </thead>\n",
       "  <tbody>\n",
       "    <tr>\n",
       "      <th>0</th>\n",
       "      <td>2020-12-26</td>\n",
       "      <td>Christmas Day_After</td>\n",
       "    </tr>\n",
       "    <tr>\n",
       "      <th>1</th>\n",
       "      <td>2020-12-25</td>\n",
       "      <td>Christmas Eve_After</td>\n",
       "    </tr>\n",
       "    <tr>\n",
       "      <th>2</th>\n",
       "      <td>2020-11-28</td>\n",
       "      <td>Day After T-Day (TCU only)_After</td>\n",
       "    </tr>\n",
       "    <tr>\n",
       "      <th>3</th>\n",
       "      <td>2020-11-27</td>\n",
       "      <td>Thanksgiving_After</td>\n",
       "    </tr>\n",
       "    <tr>\n",
       "      <th>4</th>\n",
       "      <td>2020-11-12</td>\n",
       "      <td>Veterans Day_After</td>\n",
       "    </tr>\n",
       "  </tbody>\n",
       "</table>\n",
       "</div>"
      ],
      "text/plain": [
       "       after                     after_holiday\n",
       "0 2020-12-26               Christmas Day_After\n",
       "1 2020-12-25               Christmas Eve_After\n",
       "2 2020-11-28  Day After T-Day (TCU only)_After\n",
       "3 2020-11-27                Thanksgiving_After\n",
       "4 2020-11-12                Veterans Day_After"
      ]
     },
     "execution_count": 17,
     "metadata": {},
     "output_type": "execute_result"
    }
   ],
   "source": [
    "after_holidays.head()"
   ]
  },
  {
   "cell_type": "markdown",
   "metadata": {},
   "source": [
    "# Merge and clean data"
   ]
  },
  {
   "cell_type": "code",
   "execution_count": 18,
   "metadata": {},
   "outputs": [],
   "source": [
    "df = pd.merge(training, supplemental, how='left',\n",
    "        left_on=['BusinessDate', 'BranchID'], right_on=['BusinessDate','BranchID'])"
   ]
  },
  {
   "cell_type": "markdown",
   "metadata": {},
   "source": [
    "## remove comma, - and () from df "
   ]
  },
  {
   "cell_type": "code",
   "execution_count": 19,
   "metadata": {},
   "outputs": [],
   "source": [
    "df.replace(',','',regex=True, inplace=True)\n",
    "df.replace(' -   ','',regex=True, inplace=True)\n",
    "df.replace('[(]', '-',regex=True, inplace=True)\n",
    "df.replace('[)]', '',regex=True, inplace=True)"
   ]
  },
  {
   "cell_type": "code",
   "execution_count": 20,
   "metadata": {},
   "outputs": [],
   "source": [
    "# merge with holiday list\n",
    "df = pd.merge(df, full_holidays, how='left',\n",
    "        left_on='BusinessDate', right_on='HolidayDate')\n",
    "\n",
    "# merge with before holiday list\n",
    "df = pd.merge(df, before_holidays, how='left',\n",
    "        left_on='BusinessDate', right_on='before')\n",
    "\n",
    "# merge with after holiday list\n",
    "df = pd.merge(df, after_holidays, how='left',\n",
    "        left_on='BusinessDate', right_on='after')\n",
    "\n",
    "#remove white spaces from column names\n",
    "df.columns = df.columns.str.replace(' ', '')\n"
   ]
  },
  {
   "cell_type": "markdown",
   "metadata": {},
   "source": [
    "## Generate year, month, week"
   ]
  },
  {
   "cell_type": "code",
   "execution_count": 21,
   "metadata": {},
   "outputs": [],
   "source": [
    "df['Year']=df['BusinessDate'].dt.year\n",
    "df['Month']=df['BusinessDate'].dt.month\n",
    "df['Day_name']= df['BusinessDate'].dt.day_name()"
   ]
  },
  {
   "cell_type": "markdown",
   "metadata": {},
   "source": [
    "## Sort data"
   ]
  },
  {
   "cell_type": "code",
   "execution_count": 22,
   "metadata": {},
   "outputs": [],
   "source": [
    "# sort branch and business date\n",
    "df.sort_values(by=['BranchID','BusinessDate'], inplace=True)\n",
    "# set businessdate to index\n",
    "df.set_index('BusinessDate', inplace=True)"
   ]
  },
  {
   "cell_type": "code",
   "execution_count": 23,
   "metadata": {},
   "outputs": [
    {
     "data": {
      "text/html": [
       "<div>\n",
       "<style scoped>\n",
       "    .dataframe tbody tr th:only-of-type {\n",
       "        vertical-align: middle;\n",
       "    }\n",
       "\n",
       "    .dataframe tbody tr th {\n",
       "        vertical-align: top;\n",
       "    }\n",
       "\n",
       "    .dataframe thead th {\n",
       "        text-align: right;\n",
       "    }\n",
       "</style>\n",
       "<table border=\"1\" class=\"dataframe\">\n",
       "  <thead>\n",
       "    <tr style=\"text-align: right;\">\n",
       "      <th></th>\n",
       "      <th>BranchID</th>\n",
       "      <th>CashOrdersReceived</th>\n",
       "      <th>CashBalance_StartOfDay</th>\n",
       "      <th>TotalCashUsed</th>\n",
       "      <th>CashToVault</th>\n",
       "      <th>CashUnder</th>\n",
       "      <th>CashOver</th>\n",
       "      <th>TotalCashDisbursed</th>\n",
       "      <th>TotalCashOpeningBalance</th>\n",
       "      <th>TotalCashReceivedAllSources</th>\n",
       "      <th>HolidayDate</th>\n",
       "      <th>Holiday</th>\n",
       "      <th>before</th>\n",
       "      <th>before_holiday</th>\n",
       "      <th>after</th>\n",
       "      <th>after_holiday</th>\n",
       "      <th>Year</th>\n",
       "      <th>Month</th>\n",
       "      <th>Day_name</th>\n",
       "    </tr>\n",
       "    <tr>\n",
       "      <th>BusinessDate</th>\n",
       "      <th></th>\n",
       "      <th></th>\n",
       "      <th></th>\n",
       "      <th></th>\n",
       "      <th></th>\n",
       "      <th></th>\n",
       "      <th></th>\n",
       "      <th></th>\n",
       "      <th></th>\n",
       "      <th></th>\n",
       "      <th></th>\n",
       "      <th></th>\n",
       "      <th></th>\n",
       "      <th></th>\n",
       "      <th></th>\n",
       "      <th></th>\n",
       "      <th></th>\n",
       "      <th></th>\n",
       "      <th></th>\n",
       "    </tr>\n",
       "  </thead>\n",
       "  <tbody>\n",
       "    <tr>\n",
       "      <th>2010-01-01</th>\n",
       "      <td>99</td>\n",
       "      <td></td>\n",
       "      <td>1195235.33</td>\n",
       "      <td>48082.66</td>\n",
       "      <td></td>\n",
       "      <td></td>\n",
       "      <td></td>\n",
       "      <td></td>\n",
       "      <td>1195235.33</td>\n",
       "      <td></td>\n",
       "      <td>2010-01-01</td>\n",
       "      <td>New Year's Day</td>\n",
       "      <td>NaT</td>\n",
       "      <td>NaN</td>\n",
       "      <td>NaT</td>\n",
       "      <td>NaN</td>\n",
       "      <td>2010</td>\n",
       "      <td>1</td>\n",
       "      <td>Friday</td>\n",
       "    </tr>\n",
       "    <tr>\n",
       "      <th>2010-01-02</th>\n",
       "      <td>99</td>\n",
       "      <td></td>\n",
       "      <td>1147152.68</td>\n",
       "      <td></td>\n",
       "      <td></td>\n",
       "      <td></td>\n",
       "      <td></td>\n",
       "      <td></td>\n",
       "      <td>1147152.68</td>\n",
       "      <td></td>\n",
       "      <td>NaT</td>\n",
       "      <td>NaN</td>\n",
       "      <td>NaT</td>\n",
       "      <td>NaN</td>\n",
       "      <td>2010-01-02</td>\n",
       "      <td>New Year's Day_After</td>\n",
       "      <td>2010</td>\n",
       "      <td>1</td>\n",
       "      <td>Saturday</td>\n",
       "    </tr>\n",
       "    <tr>\n",
       "      <th>2010-01-03</th>\n",
       "      <td>99</td>\n",
       "      <td></td>\n",
       "      <td>1147152.68</td>\n",
       "      <td>92262.26</td>\n",
       "      <td></td>\n",
       "      <td></td>\n",
       "      <td></td>\n",
       "      <td></td>\n",
       "      <td>1147152.68</td>\n",
       "      <td></td>\n",
       "      <td>NaT</td>\n",
       "      <td>NaN</td>\n",
       "      <td>NaT</td>\n",
       "      <td>NaN</td>\n",
       "      <td>NaT</td>\n",
       "      <td>NaN</td>\n",
       "      <td>2010</td>\n",
       "      <td>1</td>\n",
       "      <td>Sunday</td>\n",
       "    </tr>\n",
       "    <tr>\n",
       "      <th>2010-01-04</th>\n",
       "      <td>99</td>\n",
       "      <td></td>\n",
       "      <td>1054890.42</td>\n",
       "      <td>64107.06</td>\n",
       "      <td></td>\n",
       "      <td></td>\n",
       "      <td></td>\n",
       "      <td></td>\n",
       "      <td>1054890.42</td>\n",
       "      <td></td>\n",
       "      <td>NaT</td>\n",
       "      <td>NaN</td>\n",
       "      <td>NaT</td>\n",
       "      <td>NaN</td>\n",
       "      <td>NaT</td>\n",
       "      <td>NaN</td>\n",
       "      <td>2010</td>\n",
       "      <td>1</td>\n",
       "      <td>Monday</td>\n",
       "    </tr>\n",
       "    <tr>\n",
       "      <th>2010-01-05</th>\n",
       "      <td>99</td>\n",
       "      <td></td>\n",
       "      <td>990783.35</td>\n",
       "      <td>12372.77</td>\n",
       "      <td></td>\n",
       "      <td></td>\n",
       "      <td></td>\n",
       "      <td></td>\n",
       "      <td>990783.35</td>\n",
       "      <td></td>\n",
       "      <td>NaT</td>\n",
       "      <td>NaN</td>\n",
       "      <td>NaT</td>\n",
       "      <td>NaN</td>\n",
       "      <td>NaT</td>\n",
       "      <td>NaN</td>\n",
       "      <td>2010</td>\n",
       "      <td>1</td>\n",
       "      <td>Tuesday</td>\n",
       "    </tr>\n",
       "  </tbody>\n",
       "</table>\n",
       "</div>"
      ],
      "text/plain": [
       "              BranchID CashOrdersReceived CashBalance_StartOfDay  \\\n",
       "BusinessDate                                                       \n",
       "2010-01-01          99                                1195235.33   \n",
       "2010-01-02          99                                1147152.68   \n",
       "2010-01-03          99                                1147152.68   \n",
       "2010-01-04          99                                1054890.42   \n",
       "2010-01-05          99                                 990783.35   \n",
       "\n",
       "             TotalCashUsed CashToVault CashUnder CashOver TotalCashDisbursed  \\\n",
       "BusinessDate                                                                   \n",
       "2010-01-01        48082.66                                                     \n",
       "2010-01-02                                                                     \n",
       "2010-01-03        92262.26                                                     \n",
       "2010-01-04        64107.06                                                     \n",
       "2010-01-05        12372.77                                                     \n",
       "\n",
       "             TotalCashOpeningBalance TotalCashReceivedAllSources HolidayDate  \\\n",
       "BusinessDate                                                                   \n",
       "2010-01-01               1195235.33                               2010-01-01   \n",
       "2010-01-02               1147152.68                                      NaT   \n",
       "2010-01-03               1147152.68                                      NaT   \n",
       "2010-01-04               1054890.42                                      NaT   \n",
       "2010-01-05                990783.35                                      NaT   \n",
       "\n",
       "                     Holiday before before_holiday      after  \\\n",
       "BusinessDate                                                    \n",
       "2010-01-01    New Year's Day    NaT            NaN        NaT   \n",
       "2010-01-02               NaN    NaT            NaN 2010-01-02   \n",
       "2010-01-03               NaN    NaT            NaN        NaT   \n",
       "2010-01-04               NaN    NaT            NaN        NaT   \n",
       "2010-01-05               NaN    NaT            NaN        NaT   \n",
       "\n",
       "                     after_holiday  Year  Month  Day_name  \n",
       "BusinessDate                                               \n",
       "2010-01-01                     NaN  2010      1    Friday  \n",
       "2010-01-02    New Year's Day_After  2010      1  Saturday  \n",
       "2010-01-03                     NaN  2010      1    Sunday  \n",
       "2010-01-04                     NaN  2010      1    Monday  \n",
       "2010-01-05                     NaN  2010      1   Tuesday  "
      ]
     },
     "execution_count": 23,
     "metadata": {},
     "output_type": "execute_result"
    }
   ],
   "source": [
    "df.head()"
   ]
  },
  {
   "cell_type": "code",
   "execution_count": 24,
   "metadata": {},
   "outputs": [
    {
     "data": {
      "text/plain": [
       "(171230, 19)"
      ]
     },
     "execution_count": 24,
     "metadata": {},
     "output_type": "execute_result"
    }
   ],
   "source": [
    "df.shape"
   ]
  },
  {
   "cell_type": "code",
   "execution_count": 25,
   "metadata": {},
   "outputs": [],
   "source": [
    "df.to_csv('combined_data.csv', index=True)"
   ]
  }
 ],
 "metadata": {
  "kernelspec": {
   "display_name": "Python 3",
   "language": "python",
   "name": "python3"
  },
  "language_info": {
   "codemirror_mode": {
    "name": "ipython",
    "version": 3
   },
   "file_extension": ".py",
   "mimetype": "text/x-python",
   "name": "python",
   "nbconvert_exporter": "python",
   "pygments_lexer": "ipython3",
   "version": "3.8.3"
  }
 },
 "nbformat": 4,
 "nbformat_minor": 4
}
